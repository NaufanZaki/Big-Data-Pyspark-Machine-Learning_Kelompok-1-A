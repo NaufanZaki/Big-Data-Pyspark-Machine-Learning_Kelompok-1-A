{
 "cells": [
  {
   "cell_type": "code",
   "execution_count": 1,
   "metadata": {},
   "outputs": [],
   "source": [
    "# init\n",
    "import findspark\n",
    "findspark.init()"
   ]
  },
  {
   "cell_type": "code",
   "execution_count": 2,
   "metadata": {},
   "outputs": [],
   "source": [
    "# Import libraries\n",
    "from pyspark.sql import SparkSession\n",
    "from pyspark.ml.feature import Tokenizer, StopWordsRemover, HashingTF, IDF, StandardScaler\n",
    "from pyspark.ml.classification import DecisionTreeClassifier\n",
    "from pyspark.ml import Pipeline\n",
    "from pyspark.ml.evaluation import MulticlassClassificationEvaluator\n",
    "import pandas as pd\n",
    "import matplotlib.pyplot as plt\n",
    "import seaborn as sns"
   ]
  },
  {
   "cell_type": "code",
   "execution_count": 3,
   "metadata": {},
   "outputs": [],
   "source": [
    "# Start Spark session\n",
    "spark = SparkSession.builder.appName(\"Amazon Fine Food Reviews Classification\").getOrCreate()"
   ]
  },
  {
   "cell_type": "code",
   "execution_count": 4,
   "metadata": {},
   "outputs": [
    {
     "name": "stdout",
     "output_type": "stream",
     "text": [
      "+---+----------+--------------+--------------------+--------------------+----------------------+-----+----------+--------------------+--------------------+\n",
      "| Id| ProductId|        UserId|         ProfileName|HelpfulnessNumerator|HelpfulnessDenominator|Score|      Time|             Summary|                Text|\n",
      "+---+----------+--------------+--------------------+--------------------+----------------------+-----+----------+--------------------+--------------------+\n",
      "|  1|B001E4KFG0|A3SGXH7AUHU8GW|          delmartian|                   1|                     1|    5|1303862400|Good Quality Dog ...|I have bought sev...|\n",
      "|  2|B00813GRG4|A1D87F6ZCVE5NK|              dll pa|                   0|                     0|    1|1346976000|   Not as Advertised|\"Product arrived ...|\n",
      "|  3|B000LQOCH0| ABXLMWJIXXAIN|\"Natalia Corres \"...|                   1|                     1|    4|1219017600|\"\"\"Delight\"\" says...|\"This is a confec...|\n",
      "|  4|B000UA0QIQ|A395BORC6FGVXV|                Karl|                   3|                     3|    2|1307923200|      Cough Medicine|If you are lookin...|\n",
      "|  5|B006K2ZZ7K|A1UQRSCLF8GW1T|\"Michael D. Bigha...|                   0|                     0|    5|1350777600|         Great taffy|Great taffy at a ...|\n",
      "|  6|B006K2ZZ7K| ADT0SRK1MGOEU|      Twoapennything|                   0|                     0|    4|1342051200|          Nice Taffy|I got a wild hair...|\n",
      "|  7|B006K2ZZ7K|A1SP2KVKFXXRU1|   David C. Sullivan|                   0|                     0|    5|1340150400|Great!  Just as g...|This saltwater ta...|\n",
      "|  8|B006K2ZZ7K|A3JRGQVEQN31IQ|  Pamela G. Williams|                   0|                     0|    5|1336003200|Wonderful, tasty ...|This taffy is so ...|\n",
      "|  9|B000E7L2R4|A1MZYO9TZK0BBI|            R. James|                   1|                     1|    5|1322006400|          Yay Barley|Right now I'm mos...|\n",
      "| 10|B00171APVA|A21BT40VZCCYT4|       Carol A. Reed|                   0|                     0|    5|1351209600|    Healthy Dog Food|This is a very he...|\n",
      "| 11|B0001PB9FE|A3HDKO7OW0QNK4|        Canadian Fan|                   1|                     1|    5|1107820800|The Best Hot Sauc...|I don't know if i...|\n",
      "| 12|B0009XLVG0|A2725IB4YY9JEB|\"A Poeng \"\"Sparky...|                   4|                     4|    5|1282867200|\"My cats LOVE thi...|One of my boys ne...|\n",
      "| 13|B0009XLVG0| A327PCT23YH90|                  LT|                   1|                     1|    1|1339545600|My Cats Are Not F...|My cats have been...|\n",
      "| 14|B001GVISJM|A18ECVX2RJ7HUE| \"willie \"\"roadie\"\"\"|                   2|                     2|    4|1288915200|   fresh and greasy!|good flavor! thes...|\n",
      "| 15|B001GVISJM|A2MUGFV2TDQ47K|\"Lynrie \"\"Oh HELL...|                   4|                     5|    5|1268352000|Strawberry Twizzl...|The Strawberry Tw...|\n",
      "| 16|B001GVISJM|A1CZX3CP8IKQIJ|        Brian A. Lee|                   4|                     5|    5|1262044800|Lots of twizzlers...|My daughter loves...|\n",
      "| 17|B001GVISJM|A3KLWF6WQ5BNYO|      Erica Neathery|                   0|                     0|    2|1348099200|          poor taste|I love eating the...|\n",
      "| 18|B001GVISJM| AFKW14U97Z6QO|               Becca|                   0|                     0|    5|1345075200|            Love it!|I am very satisfi...|\n",
      "| 19|B001GVISJM|A2A9X58G2GTBLP|             Wolfee1|                   0|                     0|    5|1324598400|  GREAT SWEET CANDY!|Twizzlers, Strawb...|\n",
      "| 20|B001GVISJM|A3IV7CL2C13K2U|                Greg|                   0|                     0|    5|1318032000|Home delivered tw...|Candy was deliver...|\n",
      "| 21|B001GVISJM|A1WO0KGLPR5PV6|            mom2emma|                   0|                     0|    5|1313452800|        Always fresh|My husband is a T...|\n",
      "| 22|B001GVISJM| AZOF9E17RGZH8|      Tammy Anderson|                   0|                     0|    5|1308960000|           TWIZZLERS|\"I bought these f...|\n",
      "| 23|B001GVISJM| ARYVQL4N737A1|       Charles Brown|                   0|                     0|    5|1304899200|  Delicious product!|I can remember bu...|\n",
      "| 24|B001GVISJM| AJ613OLZZUG7V|              Mare's|                   0|                     0|    5|1304467200|           Twizzlers|I love this candy...|\n",
      "| 25|B001GVISJM|A22P2J09NJ9HKE|\"S. Cabanaugh \"\"j...|                   0|                     0|    5|1295481600|Please sell these...|I have lived out ...|\n",
      "| 26|B001GVISJM|A3FONPR03H3PJS|\"Deborah S. Linze...|                   0|                     0|    5|1288310400|Twizzlers - Straw...|\"Product received...|\n",
      "| 27|B001GVISJM|A3RXAU2N8KV45G|              lady21|                   0|                     1|    1|1332633600|     Nasty No flavor|The candy is just...|\n",
      "| 28|B001GVISJM| AAAS38B98HMIK|        Heather Dube|                   0|                     1|    4|1331856000|Great Bargain for...|I was so glad Ama...|\n",
      "| 29|B00144C10S|A2F4LZVGFLD1OB|              DaisyH|                   0|                     0|    5|1338854400|              YUMMY!|I got this for my...|\n",
      "| 30|B0001PB9FY|A3HDKO7OW0QNK4|        Canadian Fan|                   1|                     1|    5|1107820800|The Best Hot Sauc...|I don't know if i...|\n",
      "| 31|B003F6UO7K| AFM0O9480F04W|             Sherril|                   0|                     0|    5|1297641600|      Great machine!|I have never been...|\n",
      "| 32|B003F6UO7K|A31OQO709M20Y7|\"Molly V. Smith \"...|                   0|                     1|    5|1288310400| THIS IS MY TASTE...|This offer is a g...|\n",
      "| 33|B001EO5QW8| AOVROBZ8BNTP7|           S. Potter|                  19|                    19|    4|1163376000|Best of the Insta...|McCann's Instant ...|\n",
      "| 34|B001EO5QW8|A3PMM0NFVEJGK9|\"Megan \"\"Bad at N...|                  13|                    13|    4|1166313600|        Good Instant|This is a good in...|\n",
      "| 35|B001EO5QW8|A2EB6OGOWCRU5H|          CorbyJames|                   9|                     9|    5|1175212800|Great Irish oatme...|Instant oatmeal c...|\n",
      "| 36|B001EO5QW8|A2CI0RLADCRKPF|          T. J. Ryan|                   3|                     3|    4|1210464000|          satisfying|McCann's Instant ...|\n",
      "| 37|B001EO5QW8|A1MYS9LFFBIYKM|\"Abby Chase \"\"glu...|                   2|                     2|    5|1190851200|Love Gluten Free ...|For those of us w...|\n",
      "| 38|B001EO5QW8|A3MGP2E1ZZ6GRB|\"Zardoz \"\"focuspu...|                   1|                     1|    5|1238457600|        it's oatmeal|What else do you ...|\n",
      "| 39|B001EO5QW8|A2GHZ2UTV2B0CD|         JERRY REITH|                   0|                     0|    4|1350777600|GOOD WAY TO START...|I WAS VISITING MY...|\n",
      "| 40|B001EO5QW8| AO80AC8313NIZ|           kYpondman|                   0|                     0|    5|1317168000|Wife's favorite B...|\"I ordered this f...|\n",
      "| 41|B001EO5QW8| AQCY5KRO7489S|             Garrett|                   0|                     0|    5|1303430400|Why wouldn't you ...|The variety packs...|\n",
      "| 42|B001EO5QW8|A1WK4ALVZDYPUE|\"Dick Baldwin \"\"c...|                   0|                     0|    5|1302134400|Oatmeal For Oatme...|McCann's makes oa...|\n",
      "| 43|B001EO5QW8|A16XFOYQSJREL7|      Roger Pugliese|                   0|                     0|    5|1287014400|          Food-Great|I have McCann's O...|\n",
      "| 44|B001EO5QW8|A17DW6SUOC70DJ|         Mother of 9|                   0|                     0|    5|1255392000|  Good Hot Breakfast|McCann's Oatmeal ...|\n",
      "| 45|B001EO5QW8|A2G7B7FKP2O2PU|          D. Leschke|                   0|                     0|    5|1209686400|Great taste and c...|We really like th...|\n",
      "| 46|B001EO5QW8|A39Z97950MCTQE|         K. A. Freel|                   0|                     0|    3|1205193600|      Hearty Oatmeal|This seems a litt...|\n",
      "| 47|B001EO5QW8| AQLL2R1PPR46X|       grumpyrainbow|                   0|                     0|    5|1192752000|                good|Good oatmeal.  I ...|\n",
      "| 48|B001EO5QW8|A26AY1TFK8BQXQ|\"kbogo \"\"shoelove...|                   1|                     2|    3|1200096000|               Mushy|The flavors are g...|\n",
      "| 49|B001EO5QW8| ALOR97KTZTK1P|        knitty pants|                   1|                     2|    4|1191715200|Very good but nex...|I really like the...|\n",
      "| 50|B001EO5QW8|A276999Y6VRSCQ|                JMay|                   0|                     1|    3|1334016000|          Same stuff|This is the same ...|\n",
      "| 51|B001EO5QW8|A108P30XVUFKXY|           Roberto A|                   0|                     7|    1|1203379200|       Don't like it|This oatmeal is n...|\n",
      "| 52|B000G6RPMY|A3S5KJDA6ED2PS|          Mike Kaser|                   4|                     4|    5|1243900800|HOT!  And good!  ...|\"Got a free packa...|\n",
      "| 53|B000G6RPMY| A9L6L5H9BPEBO|     Edwin C. Pauzer|                   1|                     1|    4|1348876800|You'll go nuts ov...|This wasn't in st...|\n",
      "| 54|B000G6RPMY| AQ9DWWYP2KJCQ|\"Roel Trevino \"\"p...|                   0|                     0|    3|1278028800|      not ass kickin|we're used to spi...|\n",
      "| 55|B002GWHC0G|A1ND7WC5LXOU48|\"David Belton \"\"P...|                   2|                     2|    4|1322438400|Roasts up a smoot...|I roast at home w...|\n",
      "| 56|B002GWHC0G|A2EFAW1P3DRXWO|          TJ Fairfax|                   0|                     0|    5|1349395200| Our guests love it!|We roast these in...|\n",
      "| 57|B004N5KULM|A202WR509428VF|amateur amazon sh...|                   2|                     2|    5|1322438400|       Awesome Deal!|Deal was awesome!...|\n",
      "| 58|B004N5KULM| ASCNNAJU6SXF8|             S. Beck|                   1|                     1|    5|1336176000|How can you go wr...|It is chocolate, ...|\n",
      "| 59|B004N5KULM|A2A7KXM9B4XW90|\"P. Kelso \"\"Amazo...|                   0|                     0|    5|1320364800|Awsome - Kids in ...|Great product, ni...|\n",
      "| 60|B004N5KULM|A2QOGOXPOVKAJG|              mimimc|                   0|                     0|    5|1320105600|         great deal.|Halloween is over...|\n",
      "| 61|B004N5KULM|A1ZR8O62VSU4OK|\"Lisa J. Szlosek ...|                   2|                     4|    3|1318723200|Better price for ...|Watch your prices...|\n",
      "| 62|B004N5KULM| A7ZK2A3VIW7X9|               Peggy|                   0|                     2|    5|1319414400|    pretty expensive|This bag of candy...|\n",
      "| 63|B001EO5TPM|A1E09XGZUR78C6|       gary sturrock|                   2|                     2|    1|1215302400|      stale product.|Arrived in 6 days...|\n",
      "| 64|B005DUM9UQ|A3HR0ZZOFKQ97N|                 RLC|                   3|                     3|    5|1333497600|Hammer Nutrition ...|\"I have used the ...|\n",
      "| 65|B005DUM9UQ|A2XIHNXODNZGV4|\"ChemProf \"\"chem ...|                   1|                     1|    5|1333584000|great source of e...|This product serv...|\n",
      "| 66|B005DUM9UQ|A3TWF9DQ6MU87E|               dhy4b|                   1|                     1|    5|1331510400|Great for prevent...|This stuff really...|\n",
      "| 67|B005DUM9UQ| AEFIZIJ1FK1BK|                Doug|                   0|                     0|    5|1345161600|Low Carb Alternat...|\"For those of us ...|\n",
      "| 68|B005DUM9UQ| A8OFFIAL6XTOH|         Bill Shirer|                   0|                     1|    2|1338422400|Taste is not so g...|I purchased the M...|\n",
      "| 69|B000E7VI7S|A1KL2LAW08X6UQ|          calmnsense|                   0|                     0|    3|1169251200|How much would yo...|If you're impulsi...|\n",
      "| 70|B000E7VI7S| AWCBF2ZWIN57F|          C. Salcido|                   0|                     2|    5|1185753600|      pretzel haven!|this was sooooo d...|\n",
      "| 71|B001GVISJC|A27TKQHFW0FB5N|                Chet|                   2|                     2|    5|1254355200|        Great Gummi!|These Albanese gu...|\n",
      "| 72|B001GVISJC|A3BDOAPSF96WGQ|               2tall|                   1|                     1|    5|1289260800|Bigger then other...|Grape gummy bears...|\n",
      "| 73|B006SQBRMA| ATYMT48R62ENE|               Marie|                   0|                     0|    5|1327017600|Best ever latice ...|I ordered two of ...|\n",
      "| 74|B0059WXJKM|A25VFHVGI4CFTP|      Diana Robinson|                   0|                     1|    1|1335744000|Warning!  WARNING...|\"Buyer Beware Ple...|\n",
      "| 75|B001EPPI84|A3Q0IDQ03S0158|                 Jen|                   0|                     0|    2|1287705600|     nothing special|It is okay.  I wo...|\n",
      "| 76|B001EPPI84|A27TZ4WBU7N0YF|               I. So|                   0|                     0|    1|1275004800|       No Tea Flavor|No tea flavor at ...|\n",
      "| 77|B004X2KR36|A2W3ABLWMJ84NS|      Jessica Snyder|                   0|                     0|    5|1348444800|                Good|These looked like...|\n",
      "| 78|B004X2KR36|A26M5O53PHZTKN|   \"Debs \"\"peanut\"\"\"|                   0|                     0|    5|1348185600|         Taste great|These taste reall...|\n",
      "| 79|B004X2KR36|A2AB7M9UCNBVN7|            sharonh4|                   0|                     0|    3|1346976000|Order only in col...|The taste was gre...|\n",
      "| 80|B005R8JE8O|A3H1EQD2PBC085|                 jmc|                   0|                     0|    5|1344902400|    this is the best|i know i cannot m...|\n",
      "| 81|B0066DMI6Y| AB30HQTI5VOLR|      Melinda Bishop|                   1|                     1|    5|1325116800|          Delicious!|This peppermint s...|\n",
      "| 82|B0066DMI6Y| AZLONLC8OZPEC|      John W. Hollis|                   1|                     1|    4|1324598400|               Great|Great gift for al...|\n",
      "| 83|B003ZFRKGO|A2VOZX7YBT0D6D|\"Johnnycakes \"\"Jo...|                  15|                    15|    5|1325635200|Forget Molecular ...|\"I know the produ...|\n",
      "| 84|B0019CW0HE|A1FD9E5C06UB6B|       BRENDA DEMERS|                   5|                     5|    3|1301011200|Natural Balance L...|While my dogs lik...|\n",
      "| 85|B0019CW0HE| AK2CXHH9VRZ2A|            I. GLENN|                   4|                     4|    3|1313193600|INCREASED MY DOGS...|\"Awesome dog food...|\n",
      "| 86|B0019CW0HE|A25BGFRHYHEZKK|          Toby's mom|                   4|                     4|    5|1292889600|         Great food!|We have three dog...|\n",
      "| 87|B0019CW0HE|A37N9XZBB8JYOF|               Ash52|                   1|                     1|    5|1333670400|Great for my dogs...|My dog has a ton ...|\n",
      "| 88|B0019CW0HE| A1T4L0Q47OZ9N|               Wendy|                   1|                     1|    5|1320883200|Great for stomach...|My shepherd/colli...|\n",
      "| 89|B0019CW0HE|A3IMXZE9FCUNOC|                Dana|                   1|                     1|    5|1311638400|Better life for y...|Natural Balance D...|\n",
      "| 90|B0019CW0HE|A1EC57S6C2VLTL|\"Lorraine \"\"Agele...|                   0|                     0|    5|1347408000|          Great Food|Great food! I lov...|\n",
      "| 91|B0019CW0HE|A1OGD72Y2Y26CF|            Lisas201|                   0|                     0|    5|1335398400|Great food for my...|I have a standard...|\n",
      "| 92|B0019CW0HE| A7JWCYVPF7KCO|                gare|                   0|                     0|    5|1334966400|      Great dog food|This is great dog...|\n",
      "| 93|B0019CW0HE| ABG53EBZBKD23|\"J. Romagnoli \"\"*...|                   0|                     0|    5|1333929600|  Mmmmm  Mmmmm good.|This food is grea...|\n",
      "| 94|B0019CW0HE|A3AF72GP4GVRY1|       John D. Meara|                   0|                     0|    5|1330041600|     Great Dog Food!|My golden retriev...|\n",
      "| 95|B0019CW0HE|A1DJAAKLPCJRZD|               wendy|                   0|                     0|    5|1329609600|       So convenient|This is the same ...|\n",
      "| 96|B0019CW0HE|A1BFNM27629VAV|           E. Triebe|                   0|                     0|    5|1320105600|Good healthy dog ...|I've been very pl...|\n",
      "| 97|B0019CW0HE|A18AAABCIJKC5Q|             Rhiever|                   0|                     0|    5|1303776000|      Great dog food|\"My 1-1/2 year ol...|\n",
      "| 98|B0019CW0HE|A3UII2114114PI|\"FuNky Faja \"\"SiL...|                   0|                     0|    5|1297296000|Great allergy sen...|Our pup has exper...|\n",
      "| 99|B0019CW0HE| ABZ9F0D94YK45|    Amazon-tron 3000|                   0|                     0|    5|1295308800|Perfect for our E...|My English Bulldo...|\n",
      "|100|B0019CW0HE|A2P6ACFZ8FTNVV|    Melissa Benjamin|                   0|                     1|    1|1331164800|                 Bad|I fed this to my ...|\n",
      "+---+----------+--------------+--------------------+--------------------+----------------------+-----+----------+--------------------+--------------------+\n",
      "only showing top 100 rows\n",
      "\n"
     ]
    }
   ],
   "source": [
    "# Load dataset\n",
    "df = spark.read.csv('Reviews.csv', header=True, inferSchema=True)\n",
    "df.show(100)"
   ]
  },
  {
   "cell_type": "code",
   "execution_count": 5,
   "metadata": {},
   "outputs": [
    {
     "name": "stdout",
     "output_type": "stream",
     "text": [
      "+-----+------+\n",
      "|Score| count|\n",
      "+-----+------+\n",
      "|    3| 42502|\n",
      "|    5|361648|\n",
      "|    1| 52635|\n",
      "|    4| 80141|\n",
      "|    2| 29877|\n",
      "+-----+------+\n",
      "\n"
     ]
    }
   ],
   "source": [
    "# Filter the dataset to include only Scores between 1 and 5\n",
    "df_filtered = df.filter(df['Score'].between(1, 5))\n",
    "score_counts_filtered = df_filtered.groupBy('Score').count()\n",
    "score_counts_filtered.show()"
   ]
  },
  {
   "cell_type": "code",
   "execution_count": 6,
   "metadata": {},
   "outputs": [],
   "source": [
    "# Drop missing values\n",
    "df = df.dropna()"
   ]
  },
  {
   "cell_type": "code",
   "execution_count": 7,
   "metadata": {},
   "outputs": [],
   "source": [
    "# Labeling: Score > 3 is positive (label = 1), others are negative (label = 0)\n",
    "df = df.withColumn(\"label\", (df.Score > 3).cast(\"integer\"))  # 1 for positive, 0 for negative"
   ]
  },
  {
   "cell_type": "code",
   "execution_count": 8,
   "metadata": {},
   "outputs": [],
   "source": [
    "# Split data into training and testing sets\n",
    "train_data, test_data = df.randomSplit([0.8, 0.2], seed=1234)"
   ]
  },
  {
   "cell_type": "code",
   "execution_count": 9,
   "metadata": {},
   "outputs": [],
   "source": [
    "# Process tokenization, stopwords removal, and feature extraction\n",
    "tokenizer = Tokenizer(inputCol=\"Text\", outputCol=\"words\")\n",
    "remover = StopWordsRemover(inputCol=\"words\", outputCol=\"filtered\")\n",
    "hashingTF = HashingTF(inputCol=\"filtered\", outputCol=\"rawFeatures\", numFeatures=10000)\n",
    "idf = IDF(inputCol=\"rawFeatures\", outputCol=\"features\")\n",
    "scaler = StandardScaler(inputCol=\"features\", outputCol=\"scaledFeatures\")"
   ]
  },
  {
   "cell_type": "code",
   "execution_count": 10,
   "metadata": {},
   "outputs": [],
   "source": [
    "# Decision Tree classifier\n",
    "dt = DecisionTreeClassifier(featuresCol=\"scaledFeatures\", labelCol=\"label\")\n",
    "pipeline = Pipeline(stages=[tokenizer, remover, hashingTF, idf, scaler, dt])  # Use Decision Tree in the pipeline"
   ]
  },
  {
   "cell_type": "code",
   "execution_count": 13,
   "metadata": {},
   "outputs": [
    {
     "name": "stdout",
     "output_type": "stream",
     "text": [
      "Error during model fitting: An error occurred while calling o62.fit.\n",
      ": org.apache.spark.SparkException: Job aborted due to stage failure: Task 15 in stage 23.0 failed 1 times, most recent failure: Lost task 15.0 in stage 23.0 (TID 193) (Aarsy executor driver): java.lang.RuntimeException: Labels MUST NOT be Null or NaN\n",
      "\tat org.apache.spark.sql.catalyst.expressions.GeneratedClass$GeneratedIteratorForCodegenStage1.hashAgg_doAggregate_max_0$(Unknown Source)\n",
      "\tat org.apache.spark.sql.catalyst.expressions.GeneratedClass$GeneratedIteratorForCodegenStage1.hashAgg_doConsume_0$(Unknown Source)\n",
      "\tat org.apache.spark.sql.catalyst.expressions.GeneratedClass$GeneratedIteratorForCodegenStage1.hashAgg_doAggregateWithoutKey_0$(Unknown Source)\n",
      "\tat org.apache.spark.sql.catalyst.expressions.GeneratedClass$GeneratedIteratorForCodegenStage1.processNext(Unknown Source)\n",
      "\tat org.apache.spark.sql.execution.BufferedRowIterator.hasNext(BufferedRowIterator.java:43)\n",
      "\tat org.apache.spark.sql.execution.WholeStageCodegenEvaluatorFactory$WholeStageCodegenPartitionEvaluator$$anon$1.hasNext(WholeStageCodegenEvaluatorFactory.scala:43)\n",
      "\tat scala.collection.Iterator$$anon$10.hasNext(Iterator.scala:460)\n",
      "\tat org.apache.spark.shuffle.sort.BypassMergeSortShuffleWriter.write(BypassMergeSortShuffleWriter.java:140)\n",
      "\tat org.apache.spark.shuffle.ShuffleWriteProcessor.write(ShuffleWriteProcessor.scala:59)\n",
      "\tat org.apache.spark.scheduler.ShuffleMapTask.runTask(ShuffleMapTask.scala:104)\n",
      "\tat org.apache.spark.scheduler.ShuffleMapTask.runTask(ShuffleMapTask.scala:54)\n",
      "\tat org.apache.spark.TaskContext.runTaskWithListeners(TaskContext.scala:166)\n",
      "\tat org.apache.spark.scheduler.Task.run(Task.scala:141)\n",
      "\tat org.apache.spark.executor.Executor$TaskRunner.$anonfun$run$4(Executor.scala:620)\n",
      "\tat org.apache.spark.util.SparkErrorUtils.tryWithSafeFinally(SparkErrorUtils.scala:64)\n",
      "\tat org.apache.spark.util.SparkErrorUtils.tryWithSafeFinally$(SparkErrorUtils.scala:61)\n",
      "\tat org.apache.spark.util.Utils$.tryWithSafeFinally(Utils.scala:94)\n",
      "\tat org.apache.spark.executor.Executor$TaskRunner.run(Executor.scala:623)\n",
      "\tat java.util.concurrent.ThreadPoolExecutor.runWorker(Unknown Source)\n",
      "\tat java.util.concurrent.ThreadPoolExecutor$Worker.run(Unknown Source)\n",
      "\tat java.lang.Thread.run(Unknown Source)\n",
      "\n",
      "Driver stacktrace:\n",
      "\tat org.apache.spark.scheduler.DAGScheduler.failJobAndIndependentStages(DAGScheduler.scala:2856)\n",
      "\tat org.apache.spark.scheduler.DAGScheduler.$anonfun$abortStage$2(DAGScheduler.scala:2792)\n",
      "\tat org.apache.spark.scheduler.DAGScheduler.$anonfun$abortStage$2$adapted(DAGScheduler.scala:2791)\n",
      "\tat scala.collection.mutable.ResizableArray.foreach(ResizableArray.scala:62)\n",
      "\tat scala.collection.mutable.ResizableArray.foreach$(ResizableArray.scala:55)\n",
      "\tat scala.collection.mutable.ArrayBuffer.foreach(ArrayBuffer.scala:49)\n",
      "\tat org.apache.spark.scheduler.DAGScheduler.abortStage(DAGScheduler.scala:2791)\n",
      "\tat org.apache.spark.scheduler.DAGScheduler.$anonfun$handleTaskSetFailed$1(DAGScheduler.scala:1247)\n",
      "\tat org.apache.spark.scheduler.DAGScheduler.$anonfun$handleTaskSetFailed$1$adapted(DAGScheduler.scala:1247)\n",
      "\tat scala.Option.foreach(Option.scala:407)\n",
      "\tat org.apache.spark.scheduler.DAGScheduler.handleTaskSetFailed(DAGScheduler.scala:1247)\n",
      "\tat org.apache.spark.scheduler.DAGSchedulerEventProcessLoop.doOnReceive(DAGScheduler.scala:3060)\n",
      "\tat org.apache.spark.scheduler.DAGSchedulerEventProcessLoop.onReceive(DAGScheduler.scala:2994)\n",
      "\tat org.apache.spark.scheduler.DAGSchedulerEventProcessLoop.onReceive(DAGScheduler.scala:2983)\n",
      "\tat org.apache.spark.util.EventLoop$$anon$1.run(EventLoop.scala:49)\n",
      "Caused by: java.lang.RuntimeException: Labels MUST NOT be Null or NaN\n",
      "\tat org.apache.spark.sql.catalyst.expressions.GeneratedClass$GeneratedIteratorForCodegenStage1.hashAgg_doAggregate_max_0$(Unknown Source)\n",
      "\tat org.apache.spark.sql.catalyst.expressions.GeneratedClass$GeneratedIteratorForCodegenStage1.hashAgg_doConsume_0$(Unknown Source)\n",
      "\tat org.apache.spark.sql.catalyst.expressions.GeneratedClass$GeneratedIteratorForCodegenStage1.hashAgg_doAggregateWithoutKey_0$(Unknown Source)\n",
      "\tat org.apache.spark.sql.catalyst.expressions.GeneratedClass$GeneratedIteratorForCodegenStage1.processNext(Unknown Source)\n",
      "\tat org.apache.spark.sql.execution.BufferedRowIterator.hasNext(BufferedRowIterator.java:43)\n",
      "\tat org.apache.spark.sql.execution.WholeStageCodegenEvaluatorFactory$WholeStageCodegenPartitionEvaluator$$anon$1.hasNext(WholeStageCodegenEvaluatorFactory.scala:43)\n",
      "\tat scala.collection.Iterator$$anon$10.hasNext(Iterator.scala:460)\n",
      "\tat org.apache.spark.shuffle.sort.BypassMergeSortShuffleWriter.write(BypassMergeSortShuffleWriter.java:140)\n",
      "\tat org.apache.spark.shuffle.ShuffleWriteProcessor.write(ShuffleWriteProcessor.scala:59)\n",
      "\tat org.apache.spark.scheduler.ShuffleMapTask.runTask(ShuffleMapTask.scala:104)\n",
      "\tat org.apache.spark.scheduler.ShuffleMapTask.runTask(ShuffleMapTask.scala:54)\n",
      "\tat org.apache.spark.TaskContext.runTaskWithListeners(TaskContext.scala:166)\n",
      "\tat org.apache.spark.scheduler.Task.run(Task.scala:141)\n",
      "\tat org.apache.spark.executor.Executor$TaskRunner.$anonfun$run$4(Executor.scala:620)\n",
      "\tat org.apache.spark.util.SparkErrorUtils.tryWithSafeFinally(SparkErrorUtils.scala:64)\n",
      "\tat org.apache.spark.util.SparkErrorUtils.tryWithSafeFinally$(SparkErrorUtils.scala:61)\n",
      "\tat org.apache.spark.util.Utils$.tryWithSafeFinally(Utils.scala:94)\n",
      "\tat org.apache.spark.executor.Executor$TaskRunner.run(Executor.scala:623)\n",
      "\tat java.util.concurrent.ThreadPoolExecutor.runWorker(Unknown Source)\n",
      "\tat java.util.concurrent.ThreadPoolExecutor$Worker.run(Unknown Source)\n",
      "\tat java.lang.Thread.run(Unknown Source)\n",
      "\n"
     ]
    }
   ],
   "source": [
    "try:\n",
    "    model = pipeline.fit(train_data)\n",
    "except Exception as e:\n",
    "    print(f\"Error during model fitting: {e}\")"
   ]
  },
  {
   "cell_type": "code",
   "execution_count": 15,
   "metadata": {},
   "outputs": [
    {
     "name": "stdout",
     "output_type": "stream",
     "text": [
      "Error during predictions: name 'model' is not defined\n"
     ]
    }
   ],
   "source": [
    "try:\n",
    "    predictions = model.transform(test_data)\n",
    "except Exception as e:\n",
    "    print(f\"Error during predictions: {e}\")"
   ]
  },
  {
   "cell_type": "code",
   "execution_count": 17,
   "metadata": {},
   "outputs": [
    {
     "name": "stdout",
     "output_type": "stream",
     "text": [
      "Error during evaluation: name 'predictions' is not defined\n"
     ]
    }
   ],
   "source": [
    "try:\n",
    "    evaluator = MulticlassClassificationEvaluator(labelCol=\"label\", predictionCol=\"prediction\", metricName=\"accuracy\")\n",
    "    accuracy = evaluator.evaluate(predictions)\n",
    "    print(f\"Test Accuracy: {accuracy}\")\n",
    "except Exception as e:\n",
    "    print(f\"Error during evaluation: {e}\")"
   ]
  },
  {
   "cell_type": "code",
   "execution_count": 18,
   "metadata": {},
   "outputs": [
    {
     "ename": "NameError",
     "evalue": "name 'accuracy' is not defined",
     "output_type": "error",
     "traceback": [
      "\u001b[1;31m---------------------------------------------------------------------------\u001b[0m",
      "\u001b[1;31mNameError\u001b[0m                                 Traceback (most recent call last)",
      "Cell \u001b[1;32mIn[18], line 2\u001b[0m\n\u001b[0;32m      1\u001b[0m \u001b[38;5;66;03m# Display the model accuracy\u001b[39;00m\n\u001b[1;32m----> 2\u001b[0m \u001b[38;5;28mprint\u001b[39m(\u001b[38;5;124mf\u001b[39m\u001b[38;5;124m\"\u001b[39m\u001b[38;5;124mTest Accuracy: \u001b[39m\u001b[38;5;132;01m{\u001b[39;00m\u001b[43maccuracy\u001b[49m\u001b[38;5;132;01m}\u001b[39;00m\u001b[38;5;124m\"\u001b[39m)\n",
      "\u001b[1;31mNameError\u001b[0m: name 'accuracy' is not defined"
     ]
    }
   ],
   "source": [
    "# Display the model accuracy\n",
    "print(f\"Test Accuracy: {accuracy}\")"
   ]
  },
  {
   "cell_type": "code",
   "execution_count": 19,
   "metadata": {},
   "outputs": [
    {
     "name": "stderr",
     "output_type": "stream",
     "text": [
      "C:\\Users\\ARSY ATHALLAH\\AppData\\Local\\Temp\\ipykernel_11048\\3063997087.py:6: FutureWarning: \n",
      "\n",
      "Passing `palette` without assigning `hue` is deprecated and will be removed in v0.14.0. Assign the `x` variable to `hue` and set `legend=False` for the same effect.\n",
      "\n",
      "  sns.barplot(x=review_counts.index, y=review_counts.values, palette=\"viridis\")\n"
     ]
    },
    {
     "data": {
      "image/png": "[encoded data removed]",
      "text/plain": [
       "<Figure size 600x400 with 1 Axes>"
      ]
     },
     "metadata": {},
     "output_type": "display_data"
    }
   ],
   "source": [
    "# Visualization of positive and negative reviews\n",
    "df_pandas = df.select('label').toPandas()\n",
    "review_counts = df_pandas['label'].value_counts()\n",
    "\n",
    "plt.figure(figsize=(6, 4))\n",
    "sns.barplot(x=review_counts.index, y=review_counts.values, palette=\"viridis\")\n",
    "plt.title('Number of Positive and Negative Reviews')\n",
    "plt.xlabel('Review Label (0 = Negative, 1 = Positive)')\n",
    "plt.ylabel('Count')\n",
    "plt.xticks([0, 1], ['Negative', 'Positive'])\n",
    "plt.show()"
   ]
  }
 ],
 "metadata": {
  "kernelspec": {
   "display_name": "Python 3",
   "language": "python",
   "name": "python3"
  },
  "language_info": {
   "codemirror_mode": {
    "name": "ipython",
    "version": 3
   },
   "file_extension": ".py",
   "mimetype": "text/x-python",
   "name": "python",
   "nbconvert_exporter": "python",
   "pygments_lexer": "ipython3",
   "version": "3.12.0"
  }
 },
 "nbformat": 4,
 "nbformat_minor": 2
}
